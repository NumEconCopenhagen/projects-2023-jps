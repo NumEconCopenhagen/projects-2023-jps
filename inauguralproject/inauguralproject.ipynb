{
 "cells": [
  {
   "cell_type": "markdown",
   "metadata": {},
   "source": [
    "# Inaugural Project"
   ]
  },
  {
   "attachments": {},
   "cell_type": "markdown",
   "metadata": {},
   "source": [
    "> **Note the following:** \n",
    "> 1. This is an example of how to structure your **inaugural project**.\n",
    "> 1. Remember the general advice on structuring and commenting your code\n",
    "> 1. The `inauguralproject.py` file includes a function which can be used multiple times in this notebook."
   ]
  },
  {
   "attachments": {},
   "cell_type": "markdown",
   "metadata": {},
   "source": [
    ">Project\n",
    ">In this project we aim to address the household problem involving a male and a woman. Their objective is to optimize their utility by choosing between home production and labor market activities, which provide them with wages $W_{m}$ and $W_{f}$. The household derives utility from consuming goods and household production, but experiences disutility from working. The budget constraint is set such that the total consumption is equal their total wage income.\n",
    "To maximize their utility, the household determines the optimal allocation of labor between male and women members for household production and labor market, represented by $H_{f}$, by $H_{m}$, $L_{f}$, and $L_{f}$."
   ]
  },
  {
   "cell_type": "markdown",
   "metadata": {},
   "source": [
    "Imports and set magics:"
   ]
  },
  {
   "cell_type": "code",
   "execution_count": 12,
   "metadata": {},
   "outputs": [
    {
     "name": "stdout",
     "output_type": "stream",
     "text": [
      "The autoreload extension is already loaded. To reload it, use:\n",
      "  %reload_ext autoreload\n"
     ]
    }
   ],
   "source": [
    "import numpy as np\n",
    "import matplotlib.pyplot as plt\n",
    "\n",
    "# autoreload modules when code is run. Otherwise, python will not see recent changes. \n",
    "%load_ext autoreload\n",
    "%autoreload 2\n",
    "\n",
    "# Import your own code\n",
    "import inauguralproject\n",
    "from inauguralproject import HouseholdSpecializationModelClass\n",
    "model = HouseholdSpecializationModelClass()"
   ]
  },
  {
   "cell_type": "markdown",
   "metadata": {},
   "source": [
    "# Question 1"
   ]
  },
  {
   "attachments": {},
   "cell_type": "markdown",
   "metadata": {},
   "source": [
    "> In this question we assume that the choice set is discrete in half hours. $\\alpha$ is varying $\\in \\{0.25, 0.50, 0.75\\}$ and $\\sigma$ is set to $\\{0.5, 1.0, 1.5\\}$.\n",
    "We illstrate how $\\frac{{H}_{F}}{{H}_{M}}$ changes by making a plot"
   ]
  },
  {
   "cell_type": "code",
   "execution_count": 11,
   "metadata": {},
   "outputs": [
    {
     "ename": "NameError",
     "evalue": "name 'model' is not defined",
     "output_type": "error",
     "traceback": [
      "\u001b[1;31m---------------------------------------------------------------------------\u001b[0m",
      "\u001b[1;31mNameError\u001b[0m                                 Traceback (most recent call last)",
      "\u001b[1;32m~\\AppData\\Local\\Temp\\ipykernel_9512\\1351658424.py\u001b[0m in \u001b[0;36m<module>\u001b[1;34m\u001b[0m\n\u001b[0;32m      5\u001b[0m \u001b[1;31m#Discrete solving for every combination of alpha and sigma:\u001b[0m\u001b[1;33m\u001b[0m\u001b[1;33m\u001b[0m\u001b[0m\n\u001b[0;32m      6\u001b[0m \u001b[1;32mfor\u001b[0m \u001b[0msigma\u001b[0m \u001b[1;32min\u001b[0m \u001b[0msigma_values\u001b[0m\u001b[1;33m:\u001b[0m\u001b[1;33m\u001b[0m\u001b[1;33m\u001b[0m\u001b[0m\n\u001b[1;32m----> 7\u001b[1;33m     \u001b[0mmodel\u001b[0m\u001b[1;33m.\u001b[0m\u001b[0mpar\u001b[0m\u001b[1;33m.\u001b[0m\u001b[0msigma\u001b[0m \u001b[1;33m=\u001b[0m \u001b[0msigma\u001b[0m\u001b[1;33m\u001b[0m\u001b[1;33m\u001b[0m\u001b[0m\n\u001b[0m\u001b[0;32m      8\u001b[0m     \u001b[1;32mfor\u001b[0m \u001b[0malpha\u001b[0m \u001b[1;32min\u001b[0m \u001b[0malpha_values\u001b[0m\u001b[1;33m:\u001b[0m\u001b[1;33m\u001b[0m\u001b[1;33m\u001b[0m\u001b[0m\n\u001b[0;32m      9\u001b[0m         \u001b[0mmodel\u001b[0m\u001b[1;33m.\u001b[0m\u001b[0mpar\u001b[0m\u001b[1;33m.\u001b[0m\u001b[0malpha\u001b[0m \u001b[1;33m=\u001b[0m \u001b[0malpha\u001b[0m\u001b[1;33m\u001b[0m\u001b[1;33m\u001b[0m\u001b[0m\n",
      "\u001b[1;31mNameError\u001b[0m: name 'model' is not defined"
     ]
    }
   ],
   "source": [
    "alpha_values = [ 0.25, 0.5, 0.75]\n",
    "sigma_values = [ 0.5, 1.0, 1.5]\n",
    "res = {}\n",
    "\n",
    "#Discrete solving for every combination of alpha and sigma:\n",
    "for sigma in sigma_values:\n",
    "    model.par.sigma = sigma\n",
    "    for alpha in alpha_values:\n",
    "        model.par.alpha = alpha\n",
    "        opt = model.solve_discrete()\n",
    "        #Saving results\n",
    "        HFHM_ratio = opt.HF/opt.HM\n",
    "        res[(alpha, sigma)] = HFHM_ratio\n",
    "        \n",
    "        #Printing results\n",
    "        # print(f'For (\\u03b1, \\u03c3) = ({model.par.alpha:.2f}, {model.par.sigma:.2f}):    HF = {opt.HF:.2f}, HM = {opt.HM:.2f}, HF/HM: {HFHM_ratio:.2f}')\n",
    "\n",
    "#Plotting HF/HM on alpha for every valye of sigma:\n",
    "fig, ax = plt.subplots()\n",
    "for sigma in sigma_values:\n",
    "    y = [res[(alpha, sigma)] for alpha in alpha_values]\n",
    "    ax.plot(alpha_values, y, label=f\"$\\u03c3$ = {sigma}\")\n",
    "ax.set_xlabel(\"$\\u03b1$\")\n",
    "ax.set_ylabel(\"$H_F/H_M$\")\n",
    "ax.legend()\n",
    "plt.show()"
   ]
  },
  {
   "attachments": {},
   "cell_type": "markdown",
   "metadata": {},
   "source": [
    "The graph shows that when the productivity parameter $\\alpha$ is greater than 0.5, it is optimal for women to allocate more time to household production than men, and vice versa.\n",
    "When $\\alpha$ is $0.5$ the wage rate for men and women in the labor market is the same, then men and women will work the same of hours in household production.\n",
    "\n"
   ]
  },
  {
   "cell_type": "markdown",
   "metadata": {},
   "source": [
    "# Question 2"
   ]
  },
  {
   "attachments": {},
   "cell_type": "markdown",
   "metadata": {},
   "source": [
    "We use an array of different values for female wage instead of the intitial value. For each on the entries in the array, we use the descrete solver provided to find the optimal amount of house work. The results are stored in two new arrays which in turn are used as coordinates in a plot.\n",
    "\n",
    "In this question we plot the log of hours to household production for men and women against the log of the relate wages of men and women for $w_{F}$ set to $\\in$ \\[0.8, 0.9, 1.0, 1.1, 1.2\\], where the choice set is discrete. "
   ]
  },
  {
   "cell_type": "code",
   "execution_count": null,
   "metadata": {},
   "outputs": [],
   "source": [
    "model.par.alpha = 0.5\n",
    "model.par.sigma = 1\n",
    "wF_values = [0.8, 0.9, 1.0, 1.1, 1.2]\n",
    "res_HFHM_d = np.empty(5)\n",
    "res_wFwM_d = np.empty(5)\n",
    "\n",
    "#Discrete solving:\n",
    "for i, wF in enumerate(wF_values):\n",
    "    model.par.wF = wF\n",
    "    opt = model.solve_discrete()\n",
    "    #Saving results\n",
    "    res_HFHM_d[i] = np.log(opt.HF/opt.HM)\n",
    "    res_wFwM_d[i] = np.log(model.par.wF/model.par.wM)\n",
    "#print \n",
    "#Printing optimal values\n",
    "\n",
    "#Plot the the \n",
    "fig = plt.figure()\n",
    "ax = fig.add_subplot(1,1,1)\n",
    "ax.plot(res_wFwM_d, res_HFHM_d)\n",
    "ax.set_xlabel(\"log $w_F$ - log $w_M$\")\n",
    "ax.set_ylabel(\"log $H_F$ - log $H_M$\")\n",
    "plt.show()"
   ]
  },
  {
   "attachments": {},
   "cell_type": "markdown",
   "metadata": {},
   "source": [
    "The optimal female contribution in the household production decreases as the relative wage for women in the labor market increases. A higher wage for women makes their involvement in household production more costly leading them to allocate more time to the labor market compared to men. Between 0.9 and 1.0 there is no difference in the relative household hours. \n"
   ]
  },
  {
   "cell_type": "markdown",
   "metadata": {},
   "source": [
    "# Question 3"
   ]
  },
  {
   "attachments": {},
   "cell_type": "markdown",
   "metadata": {},
   "source": [
    "In this question we plot the log of hours to household production for men and women against the log of the relate wage of men and women for $w_{F}$ set to $\\in$ \\[0.8, 0.9, 1.0, 1.1, 1.2\\] where the choice set is continuous."
   ]
  },
  {
   "cell_type": "code",
   "execution_count": null,
   "metadata": {},
   "outputs": [],
   "source": [
    "model.par.alpha = 0.5\n",
    "model.par.sigma = 1\n",
    "wF_values = [0.8, 0.9, 1.0, 1.1, 1.2]\n",
    "res_HFHM_c = np.empty(5)\n",
    "res_wFwM_c = np.empty(5)\n",
    "\n",
    "\n",
    "#Continuous solving:\n",
    "for i, wF in enumerate(model.par.wF_vec):\n",
    "    model.par.wF = wF\n",
    "    opt = model.solve()\n",
    "    #Saving results\n",
    "    res_HFHM_c[i] = np.log(opt.HF/opt.HM)\n",
    "    res_wFwM_c[i] = np.log(model.par.wF/model.par.wM)\n",
    "        \n",
    "#Plotting\n",
    "fig = plt.figure()\n",
    "ax = fig.add_subplot(1,1,1)\n",
    "ax.plot(res_wFwM_c, res_HFHM_c)\n",
    "ax.set_xlabel(\"log $w_F$ - log $w_M$\")\n",
    "ax.set_ylabel(\"log $H_F$ - log $H_M$\")\n",
    "plt.show()"
   ]
  },
  {
   "attachments": {},
   "cell_type": "markdown",
   "metadata": {},
   "source": [
    "The relationship between the wage and the contribution in the home production shows a steep line where an increase in the relative wage for women, decreases the contribution in the home production. "
   ]
  },
  {
   "attachments": {},
   "cell_type": "markdown",
   "metadata": {},
   "source": [
    "# Question 4"
   ]
  },
  {
   "attachments": {},
   "cell_type": "markdown",
   "metadata": {},
   "source": [
    "We run a the following regression on time use data of couples: \n",
    "$$\\log\\frac{{H}_{F}}{{H}_{M}} = \\beta_{0} + \\beta_{1}\\log\\frac{{w}_{F}}{{w}_{M}}$$\n",
    "We estimte $\\beta_{0}$ and $\\beta_{0}$ and find the $\\sigma$ and $\\alpha$ such that is minimizes\n",
    "$$(\\beta_{0}-\\hat{\\beta}_{0})^2+(\\beta_{1}-\\hat{\\beta}_{1})^2$$\n",
    " \n",
    "where $\\beta_{0}=0.4$ and $\\beta_{1}=-0.1$"
   ]
  },
  {
   "cell_type": "code",
   "execution_count": 14,
   "metadata": {},
   "outputs": [
    {
     "name": "stdout",
     "output_type": "stream",
     "text": [
      "beta_0 = 0.4000, beta_1 = -0.1000, alpha = 0.9820, sigma = 0.1000\n"
     ]
    },
    {
     "data": {
      "image/png": "[encoded data removed]",
      "text/plain": [
       "<Figure size 640x480 with 1 Axes>"
      ]
     },
     "metadata": {},
     "output_type": "display_data"
    }
   ],
   "source": [
    "\n",
    "model.estimate()\n",
    "print(f'beta_0 = {model.sol.beta0:.4f}, beta_1 = {model.sol.beta1:.4f}, alpha = {model.par.alpha:.4f}, sigma = {model.par.sigma:.4f}')\n",
    "\n",
    "model.par.alpha = model.par.alpha\n",
    "model.par.sigma = model.par.sigma\n",
    "wF_values = [0.8, 0.9, 1.0, 1.1, 1.2]\n",
    "res_HFHM_c = np.empty(5)\n",
    "res_wFwM_c = np.empty(5)\n",
    "SY_plot = np.empty(5)\n",
    "\n",
    "#Continuous solving:\n",
    "for i, wF in enumerate(wF_values):\n",
    "    model.par.wF = wF\n",
    "    opt = model.solve()\n",
    "    #Saving results\n",
    "    res_HFHM_c[i] = np.log(opt.HF/opt.HM)\n",
    "    res_wFwM_c[i] = np.log(model.par.wF)\n",
    "    SY_plot[i] = 0.4 - 0.1*np.log(wF/model.par.wM)\n",
    "\n",
    "#Plotting\n",
    "fig = plt.figure()\n",
    "ax = fig.add_subplot(1,1,1)\n",
    "ax.plot(res_wFwM_c, SY_plot, label = 'Seminski & Yetsenga', color = 'b', linestyle='-', alpha= 1, linewidth = 3)\n",
    "ax.plot(res_wFwM_c, res_HFHM_c, label = 'Estimation', color = 'r', linestyle = ':', alpha=1, linewidth = 3)\n",
    "ax.set_xlabel(\"log $w_F$ - log $w_M$\")\n",
    "ax.set_ylabel(\"log $H_F$ - log $H_M$\")\n",
    "plt.show()\n",
    "    "
   ]
  },
  {
   "attachments": {},
   "cell_type": "markdown",
   "metadata": {},
   "source": [
    "Compared to the model by Siminski and Yetsenga we get almost the same result. \n",
    "\n",
    "Since $\\alpha$ is approaching 1, the women household productivity is higher than to the men. \n",
    "Since there is a low elasticity of substitution, the home production can’t be replaced as easily from women to men. \n",
    "When $\\sigma$ is approaching 0, this means that the ratio between women and men is productivity of household production is constant regardless of the level of wages. \\\n",
    "The paper finds that in overall women are expected to do more household work that men, which supports the relative wage distribution. There is a weak relationship between the relative wage and the allocation of household work. It also shows that women’s households work is associated with the relative wages which is not the case for the men’s.\n",
    "\n",
    "\n"
   ]
  },
  {
   "attachments": {},
   "cell_type": "markdown",
   "metadata": {},
   "source": [
    "# Question 5"
   ]
  },
  {
   "cell_type": "markdown",
   "metadata": {},
   "source": [
    "Explain your code and procedure"
   ]
  }
 ],
 "metadata": {
  "kernelspec": {
   "display_name": "base",
   "language": "python",
   "name": "python3"
  },
  "language_info": {
   "codemirror_mode": {
    "name": "ipython",
    "version": 3
   },
   "file_extension": ".py",
   "mimetype": "text/x-python",
   "name": "python",
   "nbconvert_exporter": "python",
   "pygments_lexer": "ipython3",
   "version": "3.9.16"
  },
  "toc-autonumbering": true,
  "vscode": {
   "interpreter": {
    "hash": "3d62ffdd9e0540ecb0f6a79c50cd294b65cf898384edb13cba09507e9d7e57bf"
   }
  }
 },
 "nbformat": 4,
 "nbformat_minor": 4
}
