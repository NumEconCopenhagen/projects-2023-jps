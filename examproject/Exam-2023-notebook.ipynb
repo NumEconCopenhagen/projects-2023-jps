{
 "cells": [
  {
   "attachments": {},
   "cell_type": "markdown",
   "metadata": {},
   "source": [
    "# Exam 2023 - JPS "
   ]
  },
  {
   "attachments": {},
   "cell_type": "markdown",
   "metadata": {},
   "source": [
    "**Table of contents**<a id='toc0_'></a>    \n",
    "- 1. [Problem 1: Optimal taxation with government consumption](#toc1_)    \n",
    "- 2. [Problem 2: Labor adjustment costs](#toc2_)    \n",
    "- 3. [Problem 3: Global optimizer with refined multi-start](#toc3_)    \n",
    "\n",
    "<!-- vscode-jupyter-toc-config\n",
    "\tnumbering=true\n",
    "\tanchor=true\n",
    "\tflat=false\n",
    "\tminLevel=2\n",
    "\tmaxLevel=6\n",
    "\t/vscode-jupyter-toc-config -->\n",
    "<!-- THIS CELL WILL BE REPLACED ON TOC UPDATE. DO NOT WRITE YOUR TEXT IN THIS CELL -->"
   ]
  },
  {
   "cell_type": "code",
   "execution_count": null,
   "metadata": {},
   "outputs": [],
   "source": [
    "import numpy as np\n",
    "from scipy.optimize import minimize\n",
    "import matplotlib.pyplot as plt\n",
    "plt.style.use('seaborn-whitegrid')\n",
    "import sympy as sm"
   ]
  },
  {
   "attachments": {},
   "cell_type": "markdown",
   "metadata": {},
   "source": [
    "## 1. <a id='toc1_'></a>[Problem 1: Optimal taxation with government consumption](#toc0_)"
   ]
  },
  {
   "attachments": {},
   "cell_type": "markdown",
   "metadata": {},
   "source": [
    "\n",
    "Consider a worker choosing hours of labor, $L\\in[0,24]$, to maximize utility: \n",
    "\n",
    "$$\n",
    "\\begin{align*}\n",
    "V(w,\\tau,G)&=\\max_{L\\in[0,24]}\\ln\\left(C^{\\alpha}G^{1-\\alpha}\\right)-\\nu\\frac{L^{2}}{2}\\\\&\\text{s.t.}\\\\&C=\\kappa+(1-\\tau)wL\n",
    "\\end{align*}\n",
    "$$\n",
    "\n",
    "where \n",
    "\n",
    "* $C$ is *private* consumption with weight $\\alpha\\in(0,1)$.\n",
    "* $\\kappa > 0$ is the *free private* consumption component.\n",
    "* $C = (1-\\tau)wL$ is the *costly private* consumption component.\n",
    "* $w > 0 $ is the real wage.\n",
    "* $\\tau \\in (0,1)$ is the labor-income tax rate.\n",
    "* $G > 0 $ is *government* consumption with weight $1-\\alpha$.\n",
    "* $\\nu > 0$ is the disutility of labor scaling factor"
   ]
  },
  {
   "attachments": {},
   "cell_type": "markdown",
   "metadata": {},
   "source": [
    "\n",
    "The baseline parameters are:\n",
    "\n",
    "$$\n",
    "\\begin{align*}\n",
    "\\alpha &= 0.5\\\\\n",
    "\\kappa &= 1.0\\\\\n",
    "\\nu &= \\frac{1}{2\\cdot16^2} \\\\\n",
    "w &= 1.0 \\\\ \n",
    "\\tau &= 0.30 \\\\\n",
    "\\end{align*}\n",
    "$$"
   ]
  },
  {
   "attachments": {},
   "cell_type": "markdown",
   "metadata": {},
   "source": [
    "**Question 1:** Verify that the optimal labor supply choice is $L^{\\star}(\\tilde{w}) =\\frac{-\\kappa+\\sqrt{\\kappa^{2}+4\\frac{\\alpha}{\\nu}\\tilde{w}^2}}{2\\tilde{w}}$, where $\\tilde{w} = (1-\\tau)w$, for $G\\in\\left\\{1.0 , 2.0\\right\\}$."
   ]
  },
  {
   "cell_type": "code",
   "execution_count": null,
   "metadata": {},
   "outputs": [],
   "source": [
    "from examproject import solve_L\n",
    "solve_L(1.0, 0.3)"
   ]
  },
  {
   "attachments": {},
   "cell_type": "markdown",
   "metadata": {},
   "source": [
    "For $L^{\\star}(\\tilde{w})$ we get that the optimal labor supply choise is 15.3, where is set to $\\tilde{w} = (1-\\tau)w$, for $G\\in\\left\\{1.0 , 2.0\\right\\}$."
   ]
  },
  {
   "attachments": {},
   "cell_type": "markdown",
   "metadata": {},
   "source": [
    "**Question 2:** Illustrate how $L^{\\star}(\\tilde{w})$ depends on $w$."
   ]
  },
  {
   "attachments": {},
   "cell_type": "markdown",
   "metadata": {},
   "source": [
    "The plot shows the relationship between $L^{\\star}(\\tilde{w})$ and $w$. $L^{\\star}$ increases exponentially until reaching the optimal labor supply choice. When the wage is low, there is a lower incentive to work, resulting in a smaller labor supply. When the wage is high, the labor supply increases since more people are motivated to work for a higher wage. This positive relationship between wage and labor supply is reflected in the plot, showing the upward trend of $L^{\\star}(\\tilde{w})$ as $w$ increases."
   ]
  },
  {
   "cell_type": "code",
   "execution_count": null,
   "metadata": {},
   "outputs": [],
   "source": [
    "from examproject import plot_Q2\n",
    "plot_Q2()"
   ]
  },
  {
   "attachments": {},
   "cell_type": "markdown",
   "metadata": {},
   "source": [
    "\n",
    "We now consider a government, who chooses $\\tau$ and spend all of the taxes on government consumption so:\n",
    "\n",
    "$$\n",
    "G = \\tau w L^{\\star}((1-\\tau)w)\n",
    "$$\n",
    "\n",
    "**Question 3:** Plot the implied $L$, $G$ and worker utility for a grid of $\\tau$-values.\n"
   ]
  },
  {
   "cell_type": "code",
   "execution_count": null,
   "metadata": {},
   "outputs": [],
   "source": [
    "from examproject import plot_on_tau\n",
    "plot_on_tau(1.0)"
   ]
  },
  {
   "attachments": {},
   "cell_type": "markdown",
   "metadata": {},
   "source": [
    "The first plot shows the relationship between labor supply and tax rates $\\tau$-values. When the tax rate increases, the labor supply decreases. Once it reaches the optimal labor supply, further tax increases lead to a decline in labor supply, resulting in a decrease in wages.\n",
    "\n",
    "The second plot shows the relationship between government consumption and tax rates. As the tax rate increases, government consumption rises until it reaches a maximum around 50%. Beyond this point, higher tax rates reduce the incentive to work, leading to a decrease in government consumption.\n",
    "\n",
    "The third plot showa the relationship between worker utility and tax rates. Worker utility increases until it reaches the socially optimal tax rate. However, beyond this optimal point, worker utility starts to decline as tax rates increase."
   ]
  },
  {
   "attachments": {},
   "cell_type": "markdown",
   "metadata": {},
   "source": [
    "**Question 4:** Find the socially optimal tax rate $\\tau^{\\star}\\in(0,1)$ maximizing worker utility. Illustrate your result."
   ]
  },
  {
   "cell_type": "code",
   "execution_count": null,
   "metadata": {},
   "outputs": [],
   "source": [
    "from examproject import max_of_tau\n",
    "max_of_tau(1.0, 1)"
   ]
  },
  {
   "attachments": {},
   "cell_type": "markdown",
   "metadata": {},
   "source": [
    "As illustrated on the graph, the social optimally optimal tax rate is 0.33.\n",
    "As the tax rate increases the worker utility decreases when the optimal tax rate i reached. This is because higher tax rates reduce the income for workers, resulting in a decrease in their utility."
   ]
  },
  {
   "attachments": {},
   "cell_type": "markdown",
   "metadata": {},
   "source": [
    "A more general preference formulation for the worker is:\n",
    "\n",
    "$$\n",
    "\\begin{align*}\n",
    "\\mathcal{V}(w,\\tau,G)&=\\max_{L\\in[0,24]}\\frac{\\left[ \\left( \\alpha C^{\\frac{\\sigma-1}{\\sigma}}+(1-\\alpha) G^{\\frac{\\sigma-1}{\\sigma}} \\right)^{\\frac{\\sigma}{1-\\sigma} }\\right]^{1-\\rho}-1}{1-\\rho}- \\nu\\frac{L^{1+\\varepsilon}}{1+\\varepsilon},\\,\\,\\,\\varepsilon,\\rho,\\sigma>0,\\,\\,\\,\\rho,\\sigma\\neq1\\\\&\\text{s.t.}\\\\&C=\\kappa+(1-\\tau)wL\n",
    "\\end{align*}    \n",
    "$$\n",
    "\n",
    "Optimal labor supply is now $L^{\\star}(\\tilde{w},G)$."
   ]
  },
  {
   "attachments": {},
   "cell_type": "markdown",
   "metadata": {},
   "source": [
    "Questions 5 and 6 must be answered with the general formulation, and for 2 different set of parameters:\n",
    "\n",
    "- Set 1:  $\\sigma = 1.001$, $\\rho = 1.001$ and $\\varepsilon = 1.0$.\n",
    "- Set 2:  $\\sigma = 1.5$, $\\rho = 1.5$ and $\\varepsilon = 1.0 $."
   ]
  },
  {
   "attachments": {},
   "cell_type": "markdown",
   "metadata": {},
   "source": [
    "**Question 5:** Find the $G$ that solves $G = \\tau w L^{\\star}((1-\\tau)w,G)$ using the $\\tau$ found in question 4.\n",
    "\n",
    "*Hint: First write code that solves the worker problem for given values of $G$ and $\\tau$. Then find the correct G based on this.*"
   ]
  },
  {
   "cell_type": "code",
   "execution_count": null,
   "metadata": {},
   "outputs": [],
   "source": [
    "from examproject import solve_G\n",
    "print(f\"Government consumption G for parameter set 1: {solve_G(1.0, max_of_tau(1.0, 0), 1.001, 1.001, 1.0):.2f}\")\n",
    "print(f\"Government consumption G for parameter set 2: {solve_G(1.0, max_of_tau(1.0, 0), 1.5, 1.5, 1.0):.2f}\")"
   ]
  },
  {
   "attachments": {},
   "cell_type": "markdown",
   "metadata": {},
   "source": [
    "The Government consumption $G$ that solves $G = \\tau w L^{\\star}((1-\\tau)w,G)$ using the $\\tau=0.33$ for the parameter set 1 is 7.65 and for parameter set 2 it is 4.94."
   ]
  },
  {
   "attachments": {},
   "cell_type": "markdown",
   "metadata": {},
   "source": [
    "**Question 6:** Find the socially optimal tax rate, $\\tau^{\\star}$, maximizing worker utility, while keeping $G = \\tau w L^{\\star}((1-\\tau)w,G)$."
   ]
  },
  {
   "cell_type": "code",
   "execution_count": null,
   "metadata": {},
   "outputs": [],
   "source": [
    "from examproject import max_of_tau_new\n",
    "print(f\"Socially optimal tax rate for parameter set 1: {max_of_tau_new(1.0, 1.001, 1.001, 1.0):.2f}\")\n",
    "print(f\"Socially optimal tax rate for parameter set 2: {max_of_tau_new(1.0, 1.5, 1.5, 1.0):.2f}\")"
   ]
  },
  {
   "attachments": {},
   "cell_type": "markdown",
   "metadata": {},
   "source": [
    "The socially optimal tax rate, $\\tau^{\\star}$, maximizing worker utility, while keeping $G = \\tau w L^{\\star}((1-\\tau)w,G)$ is equal to 0.5 for parameter 1 and 0.46 for parameter set 2. We se that the optimal tax rate is higher than in question 4 "
   ]
  },
  {
   "attachments": {},
   "cell_type": "markdown",
   "metadata": {},
   "source": [
    "## 2. <a id='toc2_'></a>[Problem 2: Labor adjustment costs](#toc0_)"
   ]
  },
  {
   "attachments": {},
   "cell_type": "markdown",
   "metadata": {},
   "source": [
    "You own a hair salon. You employ hairdressers, $\\ell_t$, to produce haircuts, $y_t = \\ell_t$.\n",
    "\n",
    "The wage for each haridresser is $w$.\n",
    "\n",
    "The demand for haircuts implies that the price of haircuts you can charge is $p_t = \\kappa_t y_t^{-\\eta}$, where $\\kappa_t$ is a demand-shock and $\\eta \\in (0,1)$ measures the elasticity of demand.\n",
    "\n",
    "Profits are:\n",
    "\n",
    "$$\n",
    "\\Pi_t = p_t y_t - w \\ell_t = \\kappa_t \\ell_t^{1-\\eta} - w \\ell_t\n",
    "$$"
   ]
  },
  {
   "attachments": {},
   "cell_type": "markdown",
   "metadata": {},
   "source": [
    "Baseline parameters are:\n",
    "- $\\eta = 0.5$\n",
    "- $w = 1.0$"
   ]
  },
  {
   "attachments": {},
   "cell_type": "markdown",
   "metadata": {},
   "source": [
    "**Question 1:** Verify numerically that $\\ell_{t}=\\left(\\frac{(1-\\eta)\\kappa_{t}}{w}\\right)^{\\frac{1}{\\eta}}$ maximises profits, for $\\kappa\\in\\left\\{1.0 , 2.0\\right\\}$."
   ]
  },
  {
   "cell_type": "code",
   "execution_count": null,
   "metadata": {},
   "outputs": [],
   "source": [
    "from examproject import calculate_optimal_ell\n",
    "calculate_optimal_ell()"
   ]
  },
  {
   "cell_type": "code",
   "execution_count": null,
   "metadata": {},
   "outputs": [],
   "source": [
    "from examproject import calculate_optimal_profit_num\n",
    "calculate_optimal_profit_num()"
   ]
  },
  {
   "attachments": {},
   "cell_type": "markdown",
   "metadata": {},
   "source": [
    "When using sympy we get the optimal solution for $\\ell_t$ to be equal $\\ell_{t}=\\left(\\frac{(1-\\eta)\\kappa_{t}}{w}\\right)^{\\frac{1}{\\eta}}$ and when we insert $\\kappa\\in\\left\\{1.0 , 2.0\\right\\}$ We get that the optimal haircuts for $\\kappa = 1$ is $0.25$ with af profit of $0.25$ for $\\kappa = 2$ the optimal haircuts is $1$ with a profit of $1$. "
   ]
  },
  {
   "attachments": {},
   "cell_type": "markdown",
   "metadata": {},
   "source": [
    "We now consider a *dynamic* version of the model.\n",
    "\n",
    "* The demand-shock is a so-called AR(1) in logs, \n",
    "\n",
    "$$\n",
    "\\log \\kappa_{t} = \\rho \\log \\kappa_{t-1} + \\epsilon_{t},\\,\\,\\, \\epsilon_{t+1} \\sim \\mathcal{N}(-0.5\\sigma_{\\epsilon}^2,\\sigma_{\\epsilon})\n",
    "$$\n",
    "\n",
    "* Any hiring or firing implies a fixed adjustment cost, $\\iota > 0 $.\n",
    "* Future profits are discounted with a monthly factor of $R \\in (0,1)$.\n",
    "\n",
    "The initial demand shock is $\\kappa_{-1} = 1$ and the planning horizon is 10 years, i.e. 120 months so $t \\in \\{0,1,2,\\dots,119\\}$. Initially you don't have any employees, $\\ell_{-1}=0$"
   ]
  },
  {
   "attachments": {},
   "cell_type": "markdown",
   "metadata": {},
   "source": [
    "\n",
    "The *ex post* value of the salon is *conditional* on the shock series is:\n",
    "\n",
    "$$\n",
    "h(\\epsilon_0,\\epsilon_1,\\dots,\\epsilon_{119}) = \\left[\\sum_{t=0}^{119}R^{-t}\\left[\\kappa_{t}\\ell_{t}^{1-\\eta}-w\\ell_{t}-\\boldsymbol{1}_{\\ell_{t}\\neq\\ell_{t-1}}\\iota\\right]\\right]\n",
    "$$\n",
    "\n",
    "The *ex ante* expected value of the salon can be approximated by\n",
    "\n",
    "$$\n",
    "H = \\mathbb{E}[h(\\epsilon_0,\\epsilon_1,\\dots,\\epsilon_{119})] \\approx \\frac{1}{K}\\sum_{k=0}^{K} h(\\epsilon_0^k,\\epsilon_1^k,\\dots,\\epsilon_{119}^k)\n",
    "$$\n",
    "\n",
    "where each $k\\in\\{0,1,\\dots,K-1\\}$ is a random shock series. Maximizing profitability means maximizing $H$.\n"
   ]
  },
  {
   "attachments": {},
   "cell_type": "markdown",
   "metadata": {},
   "source": [
    "Baseline parameters are: \n",
    "\n",
    "- $\\rho = 0.90$\n",
    "- $\\iota = 0.01$\n",
    "- $\\sigma_{\\epsilon} = 0.10$\n",
    "- $R = \\left(1+0.01\\right)^{1/12}$"
   ]
  },
  {
   "attachments": {},
   "cell_type": "markdown",
   "metadata": {},
   "source": [
    "**Question 2:** Calculate $H$ if the policy  $\\ell_{t}=\\left(\\frac{(1-\\eta)\\kappa_{t}}{w}\\right)^{\\frac{1}{\\eta}}$ from question 1 is followed. Choose $K$ so the approximation is good enough to not affect your results substantially."
   ]
  },
  {
   "cell_type": "code",
   "execution_count": 2,
   "metadata": {},
   "outputs": [
    {
     "data": {
      "text/plain": [
       "27.707879468503503"
      ]
     },
     "execution_count": 2,
     "metadata": {},
     "output_type": "execute_result"
    }
   ],
   "source": [
    "from examproject import calculate_profit\n",
    "calculate_profit()"
   ]
  },
  {
   "attachments": {},
   "cell_type": "markdown",
   "metadata": {},
   "source": [
    "With our approximation we get an expected profit for the hair salon of $27.71$ "
   ]
  },
  {
   "attachments": {},
   "cell_type": "markdown",
   "metadata": {},
   "source": [
    "Next, we consider policies on the form:\n",
    "\n",
    "$$\n",
    "\n",
    "\\ell_{t}=\\begin{cases}\n",
    "\\ell_t^{\\ast}  & \\text{if }\\left|\\ell_{t-1}-\\ell_t^{\\ast} \\right|>\\Delta\\\\\n",
    "\\ell_{t-1} & \\text{else }\n",
    "\\end{cases}\n",
    "\\\\\n",
    "\\text{where}\\,\\,\\ell_t^{\\ast} = \\left(\\frac{(1-\\eta)\\kappa_{t}}{w}\\right)^{\\frac{1}{\\eta}} \\\\\n",
    "\n",
    "$$\n",
    "With $\\Delta \\geq 0$ and $\\Delta = 0$ being the previous policy.\n"
   ]
  },
  {
   "attachments": {},
   "cell_type": "markdown",
   "metadata": {},
   "source": [
    "\n",
    "**Question 3:** Calculate $H$ if the policy above was followed with $\\Delta = 0.05$. Does it improve profitability?"
   ]
  },
  {
   "cell_type": "code",
   "execution_count": 3,
   "metadata": {},
   "outputs": [
    {
     "data": {
      "text/plain": [
       "28.257162127953645"
      ]
     },
     "execution_count": 3,
     "metadata": {},
     "output_type": "execute_result"
    }
   ],
   "source": [
    "from examproject import calculate_new_profit\n",
    "calculate_new_profit()"
   ]
  },
  {
   "attachments": {},
   "cell_type": "markdown",
   "metadata": {},
   "source": [
    "When we add the new policies with the else/if statement we get an increse of $0.55$ in profits for the salon."
   ]
  },
  {
   "attachments": {},
   "cell_type": "markdown",
   "metadata": {},
   "source": [
    "**Question 4:** Find the optimal $\\Delta$ maximizing $H$. Illustrate your result."
   ]
  },
  {
   "attachments": {},
   "cell_type": "markdown",
   "metadata": {},
   "source": [
    "\n",
    "**Question 5:** Suggest an alternative policy you believe might improve profitability. Implement and test your policy.\n",
    "\n"
   ]
  },
  {
   "cell_type": "code",
   "execution_count": 1,
   "metadata": {},
   "outputs": [
    {
     "ename": "NameError",
     "evalue": "name 'H' is not defined",
     "output_type": "error",
     "traceback": [
      "\u001b[0;31m---------------------------------------------------------------------------\u001b[0m",
      "\u001b[0;31mNameError\u001b[0m                                 Traceback (most recent call last)",
      "\u001b[0;32m/var/folders/pz/kctcbrz913q45c9l_2mncn_r0000gp/T/ipykernel_48718/2069423849.py\u001b[0m in \u001b[0;36m<module>\u001b[0;34m\u001b[0m\n\u001b[0;32m----> 1\u001b[0;31m \u001b[0;32mfrom\u001b[0m \u001b[0mexamproject\u001b[0m \u001b[0;32mimport\u001b[0m \u001b[0mcalculate_expected_profit_discount_rate\u001b[0m\u001b[0;34m\u001b[0m\u001b[0;34m\u001b[0m\u001b[0m\n\u001b[0m\u001b[1;32m      2\u001b[0m \u001b[0mcalculate_expected_profit_discount_rate\u001b[0m\u001b[0;34m(\u001b[0m\u001b[0;34m)\u001b[0m\u001b[0;34m\u001b[0m\u001b[0;34m\u001b[0m\u001b[0m\n",
      "\u001b[0;32m~/Desktop/Programming/projects-2023-jps/examproject/examproject.py\u001b[0m in \u001b[0;36m<module>\u001b[0;34m\u001b[0m\n\u001b[1;32m    363\u001b[0m \u001b[0;34m\u001b[0m\u001b[0m\n\u001b[1;32m    364\u001b[0m \u001b[0;31m# Call the function to get the results\u001b[0m\u001b[0;34m\u001b[0m\u001b[0;34m\u001b[0m\u001b[0m\n\u001b[0;32m--> 365\u001b[0;31m \u001b[0mold_profit\u001b[0m\u001b[0;34m,\u001b[0m \u001b[0mnew_profit\u001b[0m\u001b[0;34m,\u001b[0m \u001b[0mdiff\u001b[0m \u001b[0;34m=\u001b[0m \u001b[0mcalculate_expected_profit_discount_rate\u001b[0m\u001b[0;34m(\u001b[0m\u001b[0;34m)\u001b[0m\u001b[0;34m\u001b[0m\u001b[0;34m\u001b[0m\u001b[0m\n\u001b[0m\u001b[1;32m    366\u001b[0m \u001b[0;34m\u001b[0m\u001b[0m\n\u001b[1;32m    367\u001b[0m \u001b[0;31m# Display the results\u001b[0m\u001b[0;34m\u001b[0m\u001b[0;34m\u001b[0m\u001b[0m\n",
      "\u001b[0;32m~/Desktop/Programming/projects-2023-jps/examproject/examproject.py\u001b[0m in \u001b[0;36mcalculate_expected_profit_discount_rate\u001b[0;34m()\u001b[0m\n\u001b[1;32m    357\u001b[0m \u001b[0;34m\u001b[0m\u001b[0m\n\u001b[1;32m    358\u001b[0m     \u001b[0;31m# Calculate the difference in expected profits\u001b[0m\u001b[0;34m\u001b[0m\u001b[0;34m\u001b[0m\u001b[0m\n\u001b[0;32m--> 359\u001b[0;31m     \u001b[0mdiff\u001b[0m \u001b[0;34m=\u001b[0m \u001b[0mH_new\u001b[0m \u001b[0;34m-\u001b[0m \u001b[0mH\u001b[0m\u001b[0;34m\u001b[0m\u001b[0;34m\u001b[0m\u001b[0m\n\u001b[0m\u001b[1;32m    360\u001b[0m \u001b[0;34m\u001b[0m\u001b[0m\n\u001b[1;32m    361\u001b[0m     \u001b[0;31m# Return the results\u001b[0m\u001b[0;34m\u001b[0m\u001b[0;34m\u001b[0m\u001b[0m\n",
      "\u001b[0;31mNameError\u001b[0m: name 'H' is not defined"
     ]
    }
   ],
   "source": [
    "from examproject import calculate_expected_profit_discount_rate\n",
    "calculate_expected_profit_discount_rate()"
   ]
  },
  {
   "attachments": {},
   "cell_type": "markdown",
   "metadata": {},
   "source": [
    "When we change the rent we get an increse in profit of $1.82$ which is understandable since we lover the montly rent and therefore profits will have a higher present value. "
   ]
  },
  {
   "attachments": {},
   "cell_type": "markdown",
   "metadata": {},
   "source": [
    "## 3. <a id='toc3_'></a>[Problem 3: Global optimizer with refined multi-start](#toc0_)"
   ]
  },
  {
   "attachments": {},
   "cell_type": "markdown",
   "metadata": {},
   "source": [
    "We consider the Griewank function:\n",
    "\n",
    "$$ f(\\boldsymbol{x}) = \\sum^n_{i=1} \\frac{x^2_i}{4000}-\\prod^n_{i=1}\\cos\\left(\\frac{x_i}{\\sqrt{i}}\\right)+1$$\n",
    "\n",
    "The **global minimum** of this function is $f(0,0) = 0$ (remember: $\\cos(0)=1$).<br>\n",
    "But the function also have a lot of **local minima**."
   ]
  },
  {
   "attachments": {},
   "cell_type": "markdown",
   "metadata": {},
   "source": [
    "A **refined global optimizer with multi-start** is:\n",
    "\n",
    "1. Choose *bounds* for $\\mathbf{x}$ and *tolerance* $\\tau > 0$.\n",
    "2. Choose number of *warm-up iterations*, $\\underline{K} > 0$ and *maximum number of iterations*, $K > \\underline{K}$.\n",
    "3. In each iteration for $k \\in \\{0,1,\\dots,K-1\\}$:\n",
    "\n",
    "    A. Draw random $\\mathbf{x}^k$ uniformly within chosen bounds.\n",
    "\n",
    "    B. If $k < \\underline{K}$ go to step E.\n",
    "\n",
    "    C. Calculate $\\chi^k = 0.50\\cdot\\frac{2}{1+\\exp((k-\\underline{K})/100)}$  \n",
    "\n",
    "    D. Set $\\mathbf{x}^{k0} = \\chi^k \\mathbf{x}^k + (1-\\chi^k)\\mathbf{x}^{\\ast} $\n",
    "\n",
    "    E. Run optimizer with $\\mathbf{x}^{k0}$ as initial guess and $\\mathbf{x}^{k\\ast}$ as result.\n",
    "\n",
    "    F. Set $\\mathbf{x}^{\\ast} = \\mathbf{x}^{k\\ast}$ if $k = 0$ or $f(\\mathbf{x}^{k\\ast}) < f(\\mathbf{x}^{\\ast})$\n",
    "\n",
    "    G. If $f(\\mathbf{x}^{\\ast}) < \\tau$ go to step 4.\n",
    "\n",
    "4. Return the result $\\mathbf{x}^{\\ast}$."
   ]
  },
  {
   "attachments": {},
   "cell_type": "markdown",
   "metadata": {},
   "source": [
    "As settings we choose:\n",
    "\n",
    "* $x_1,x_2 \\in  [-600,600]$\n",
    "* $\\tau = 10^{-8}$\n",
    "* $\\underline{K}=10$\n",
    "* $K=1000$\n",
    "\n",
    "The optimizer in Step 3.E is `BFGS` with a tolerance of $\\tau$."
   ]
  },
  {
   "attachments": {},
   "cell_type": "markdown",
   "metadata": {},
   "source": [
    "**Question 1:** Implement the refined global optimizer with multi-start. Illustrate how the effective initial guesses $\\mathbf{x}^{k0}$ vary with the iteration counter $k$."
   ]
  },
  {
   "cell_type": "code",
   "execution_count": null,
   "metadata": {},
   "outputs": [],
   "source": [
    "from examproject import griewank_solve\n",
    "griewank_solve(10)"
   ]
  },
  {
   "attachments": {},
   "cell_type": "markdown",
   "metadata": {},
   "source": [
    "**Question 2:** Is it a better idea to set $\\underline{K} = 100$? Is the convergence faster?"
   ]
  },
  {
   "cell_type": "code",
   "execution_count": null,
   "metadata": {},
   "outputs": [],
   "source": [
    "from examproject import griewank_solve\n",
    "griewank_solve(100)"
   ]
  },
  {
   "attachments": {},
   "cell_type": "markdown",
   "metadata": {},
   "source": [
    "# Backup"
   ]
  },
  {
   "cell_type": "code",
   "execution_count": null,
   "metadata": {},
   "outputs": [],
   "source": [
    "# question 3 \n",
    "\n",
    "alpha = 0.5\n",
    "kappa = 1.0\n",
    "nu = 1.0 / (2.0 * 16.0 ** 2)\n",
    "w = 1.0\n",
    "\n",
    "# we define a function that returns the utility, L and G for a given tau\n",
    "tau_values = np.linspace(0.0, 1.0, 100)\n",
    "L_values = []\n",
    "G_values = []\n",
    "utility_values = []\n",
    "\n",
    "# we loop over the tau values and calculate the corresponding L, G and utility\n",
    "for tau in tau_values:\n",
    "    w_tilde = (1.0 - tau) * w\n",
    "    L_star = (-kappa + np.sqrt(kappa ** 2 + 4.0 * alpha / nu * w_tilde ** 2)) / (2.0 * w_tilde)\n",
    "    G = tau * w * L_star\n",
    "    utility = np.log((kappa + (1.0 - tau) * w * L_star) ** alpha * G ** (1.0 - alpha)) - nu * L_star ** 2 / 2.0\n",
    "    L_values.append(L_star)\n",
    "    G_values.append(G)\n",
    "    utility_values.append(utility)\n",
    "\n",
    "plt.figure(figsize=(12, 4))\n",
    "plt.subplot(1, 3, 1)\n",
    "plt.plot(tau_values, L_values)\n",
    "plt.xlabel('$\\\\tau$')\n",
    "plt.ylabel('$L$')\n",
    "plt.title('Optimal Labor Supply')\n",
    "plt.grid(True)\n",
    "\n",
    "plt.subplot(1, 3, 2)\n",
    "plt.plot(tau_values, G_values, color='green')\n",
    "plt.xlabel('$\\\\tau$')\n",
    "plt.ylabel('$G$')\n",
    "plt.title('Government Consumption')\n",
    "plt.grid(True)\n",
    "\n",
    "plt.subplot(1, 3, 3)\n",
    "plt.plot(tau_values, utility_values, color='red')\n",
    "plt.xlabel('$\\\\tau$')\n",
    "plt.ylabel('Utility')\n",
    "plt.title('Worker Utility')\n",
    "plt.grid(True)\n",
    "plt.style.use('seaborn-whitegrid')\n",
    "\n",
    "plt.tight_layout()\n",
    "plt.show()"
   ]
  },
  {
   "cell_type": "code",
   "execution_count": null,
   "metadata": {},
   "outputs": [],
   "source": [
    "# question 4\n",
    "\n",
    "def find_max(utility_values):\n",
    "    max_utility = max(utility_values)\n",
    "    max_index = utility_values.index(max_utility)\n",
    "    return max_index, max_utility\n",
    "\n",
    "print(f\"Optimal tax rate: {tau_values[find_max(utility_values)[0]]:.2f}\")\n",
    "\n",
    "plt.subplot(1, 1, 1)\n",
    "plt.plot(tau_values, utility_values)\n",
    "plt.plot(tau_values[find_max(utility_values)[0]], find_max(utility_values)[1], 'ro')\n",
    "plt.xlabel('$\\\\tau$')\n",
    "plt.ylabel('Utility')\n",
    "plt.title('Worker Utility')\n",
    "plt.grid(True)\n",
    "plt.style.use('seaborn-whitegrid')"
   ]
  },
  {
   "cell_type": "code",
   "execution_count": null,
   "metadata": {},
   "outputs": [],
   "source": [
    "# Question 5 \n",
    "\n",
    "# Define the parameters\n",
    "alpha = 0.5\n",
    "kappa = 1.0\n",
    "nu = 1 / (2 * 16**2)\n",
    "w = 1.0\n",
    "tau = 0.51\n",
    "\n",
    "params_set_1 = {\"sigma\": 1.001, \"rho\": 1.001, \"epsilon\": 1.0,}\n",
    "\n",
    "params_set_2 = {\"sigma\": 1.5, \"rho\": 1.5, \"epsilon\": 1.0,}\n",
    "\n",
    "# Utility function wich is negative since we are maximizing\n",
    "def utility(L, G, tau, alpha, kappa, w, nu, sigma, rho, epsilon):\n",
    "    C = kappa + (1 - tau) * w * L\n",
    "    Bracket = (alpha * C**((sigma - 1) / sigma) + (1 - alpha) * G**((sigma - 1) / sigma))**(sigma / (sigma - 1))\n",
    "    return -((Bracket**(1 - rho) - 1) / (1 - rho) - nu * L**(1 + epsilon) / (1 + epsilon))\n",
    "\n",
    "# Function to find the optimal labor for given G and tau with a start ques of 12\n",
    "def solve_worker(G, tau, sigma, rho, epsilon):\n",
    "    result = minimize(utility, [12], args=(G, tau, alpha, kappa, w, nu, sigma, rho, epsilon), bounds=[(0, 24)], method='nelder-mead')\n",
    "    return result.x[0]\n",
    "\n",
    "# Function to find G that solves the government problem\n",
    "def solve_government(tau, sigma, rho, epsilon):\n",
    "    G = 0.5  # initial guess\n",
    "    for _ in range(100):  # maximum of 100 iterations\n",
    "        L_star = solve_worker(G, tau, sigma, rho, epsilon)\n",
    "        new_G = tau * w * L_star\n",
    "        if abs(new_G - G) < 1e-6:  # break if converged\n",
    "            break\n",
    "        G = new_G\n",
    "    return G\n",
    "\n",
    "# Use these functions to solve the government problem for both sets of parameters\n",
    "G_set_1 = solve_government(tau, params_set_1[\"sigma\"], params_set_1[\"rho\"], params_set_1[\"epsilon\"])\n",
    "G_set_2 = solve_government(tau, params_set_2[\"sigma\"], params_set_2[\"rho\"], params_set_2[\"epsilon\"])\n",
    "\n",
    "print(f\"Government consumption G for parameter set 1: {G_set_1:.2f}\")\n",
    "print(f\"Government consumption G for parameter set 2: {G_set_2:.2f}\")"
   ]
  },
  {
   "cell_type": "code",
   "execution_count": null,
   "metadata": {},
   "outputs": [],
   "source": [
    "# Question 6\n",
    "\n",
    "# Define parameters\n",
    "alpha = 0.5\n",
    "kappa = 1.0\n",
    "nu = 1 / (2 * 16**2)\n",
    "w = 1.0\n",
    "\n",
    "params_set_1 = {\"sigma\": 1.001, \"rho\": 1.001, \"epsilon\": 1.0}\n",
    "params_set_2 = {\"sigma\": 1.5, \"rho\": 1.5, \"epsilon\": 1.0}\n",
    "\n",
    "# Define a new utility function that takes tau as an argument and internally solves for L and G\n",
    "def utility_tau(tau, alpha, kappa, w, nu, sigma, rho, epsilon):\n",
    "    G = solve_government(tau, sigma, rho, epsilon)\n",
    "    L = solve_worker(G, tau, sigma, rho, epsilon)\n",
    "    C = kappa + (1 - tau) * w * L\n",
    "    bracket = (alpha * C**((sigma - 1) / sigma) + (1 - alpha) * G**((sigma - 1) / sigma))**(sigma / (sigma - 1))\n",
    "    return -((bracket**(1 - rho) - 1) / (1 - rho) - nu * L**(1 + epsilon) / (1 + epsilon))\n",
    "\n",
    "# Find the optimal tax rate for both sets of parameters with 0.5 as initial guess\n",
    "tau_star_set_1 = minimize(utility_tau, [0.5], args=(alpha, kappa, w, nu, params_set_1['sigma'], params_set_1['rho'], params_set_1['epsilon']), bounds=[(0, 1)], method='nelder-mead')\n",
    "tau_star_set_2 = minimize(utility_tau, [0.5], args=(alpha, kappa, w, nu, params_set_2['sigma'], params_set_2['rho'], params_set_2['epsilon']), bounds=[(0, 1)],method='nelder-mead')\n",
    "\n",
    "print(f\"Socially optimal tax rate for parameter set 1: {tau_star_set_1.x[0]:.2f}\")\n",
    "print(f\"Socially optimal tax rate for parameter set 2: {tau_star_set_2.x[0]:.2f}\")"
   ]
  },
  {
   "cell_type": "code",
   "execution_count": null,
   "metadata": {},
   "outputs": [],
   "source": [
    "# 2.1 \n",
    "# Substitute the baseline parameters\n",
    "eta_value = 0.5\n",
    "w_value = 1.0\n",
    "\n",
    "# Substitute eta and w values into the optimal labor supply we use [0] to extract the first element of the list which is the solution to to FOC\n",
    "optimal_ell_value = [optimal_ell[0].subs({eta: eta_value, w: w_value, kappa: value}) for value in [1.0, 2.0]]\n",
    "\n",
    "profit1 = profit.subs({eta: eta_value, w: w_value, kappa: 1.0, ell: optimal_ell_value[0]})\n",
    "profit2 = profit.subs({eta: eta_value, w: w_value, kappa: 2.0, ell: optimal_ell_value[1]})\n",
    "\n",
    "# Display the solution with substituted values\n",
    "print(f\"The optimal hairdressers for kappa = 1 and 2: {optimal_ell_value}\")\n",
    "print(f\"Profit for kappa = 1: {profit1}\")\n",
    "print(f\"Profit for kappa = 2 {profit2}\")"
   ]
  },
  {
   "cell_type": "code",
   "execution_count": null,
   "metadata": {},
   "outputs": [],
   "source": [
    "# Question 2.2 \n",
    "# Define the parameters\n",
    "eta = 0.5\n",
    "w = 1.0\n",
    "rho = 0.90\n",
    "iota = 0.01\n",
    "sigma_epsilon = 0.10\n",
    "R = (1 + 0.01)**(1/12)\n",
    "T = 120\n",
    "K = 10000  # Number of random shock series\n",
    "\n",
    "# Define the policy function\n",
    "def policy(kappa):\n",
    "    return ((1 - eta) * kappa / w)**(1 / eta)\n",
    "\n",
    "# Define the profit function\n",
    "def profit(kappa, ell, ell_prev):\n",
    "    return kappa * ell**(1 - eta) - w * ell - (ell != ell_prev) * iota\n",
    "\n",
    "# Creating an array to store the ex values\n",
    "h_values = np.zeros(K)\n",
    "\n",
    "# Generate K random shock series and calculate the ex post value for each\n",
    "np.random.seed(100)  # Set a random seed for reproducibility\n",
    "for k in range(K): # For each shock series\n",
    "    epsilon = np.random.normal(-0.5 * sigma_epsilon**2, sigma_epsilon, T)\n",
    "    kappa = np.exp(rho * np.log(1) + epsilon) # we are taking the exponential since kappa is log transformed in the description\n",
    "    ell_prev = 0  \n",
    "    for t in range(T): # For each period\n",
    "        ell = policy(kappa[t])\n",
    "        h_values[k] += R**(-t) * profit(kappa[t], ell, ell_prev) # from the description we know that the discount factor is R^(-t)\n",
    "        ell_prev = ell\n",
    "\n",
    "# Calculate the expected value\n",
    "H = h_values.mean()\n",
    "\n",
    "print(f\"The expected profit is {H:.2f}\")"
   ]
  },
  {
   "cell_type": "code",
   "execution_count": null,
   "metadata": {},
   "outputs": [],
   "source": [
    "# 2.3 \n",
    "# exact same code as above, we just added an \"if/else\" statement to the policy function \n",
    "\n",
    "# New policy function\n",
    "def policy(kappa, ell_prev, Delta):\n",
    "    ell_star = ((1 - eta) * kappa / w) ** (1 / eta)\n",
    "    if abs(ell_prev - ell_star) > Delta:\n",
    "        return ell_star\n",
    "    else:\n",
    "        return ell_prev\n",
    "\n",
    "# Define the profit function\n",
    "def profit(kappa, ell, ell_prev):\n",
    "    return kappa * ell**(1 - eta) - w * ell - (ell != ell_prev) * iota\n",
    "\n",
    "# Creating an array to store the ex values\n",
    "h_values_new = np.zeros(K)\n",
    "\n",
    "# Generate K random shock series and calculate the ex post value for each\n",
    "np.random.seed(100)  # Set a random seed for reproducibility\n",
    "Delta = 0.05  # Adjustment threshold\n",
    "for k in range(K): # For each shock series\n",
    "    epsilon = np.random.normal(-0.5 * sigma_epsilon**2, sigma_epsilon, T)\n",
    "    kappa = np.exp(rho * np.log(1) + epsilon)  # Assume kappa_{-1} = 1\n",
    "    ell_prev = 0  # Assume ell_{-1} = 0\n",
    "    for t in range(T): # For each period\n",
    "        ell = policy(kappa[t], ell_prev, Delta)\n",
    "        h_values_new[k] += R**(-t) * profit(kappa[t], ell, ell_prev)\n",
    "        ell_prev = ell\n",
    "\n",
    "# Calculate the ex ante expected value for the new policy\n",
    "H_new = np.mean(h_values_new)\n",
    "\n",
    "print(f\"Old expected profit: {H:.2f}\")\n",
    "print(f\"New expected profit: {H_new:.2f}\")\n",
    "\n",
    "diff = H_new - H\n",
    "\n",
    "print(f\"The difference is {diff:.2f}\")"
   ]
  },
  {
   "cell_type": "code",
   "execution_count": null,
   "metadata": {},
   "outputs": [],
   "source": [
    "# Question 2.5 \n",
    "# We Change the discount rate for future profits \n",
    "R1 = (1 + 0.001)**(1/12)\n",
    "\n",
    "# New policy function\n",
    "def policy(kappa, ell_prev, Delta):\n",
    "    ell_star = ((1 - eta) * kappa / w) ** (1 / eta)\n",
    "    if abs(ell_prev - ell_star) > Delta:\n",
    "        return ell_star\n",
    "    else:\n",
    "        return ell_prev\n",
    "\n",
    "# Define the profit function\n",
    "def profit(kappa, ell, ell_prev):\n",
    "    return kappa * ell**(1 - eta) - w * ell - (ell != ell_prev) * iota\n",
    "\n",
    "# Creating an array to store the ex values\n",
    "h_values_new = np.zeros(K)\n",
    "\n",
    "# Generate K random shock series and calculate the ex post value for each\n",
    "np.random.seed(100)  # Set a random seed for reproducibility\n",
    "Delta = 0.05  # Adjustment threshold\n",
    "for k in range(K): # For each shock series\n",
    "    epsilon = np.random.normal(-0.5 * sigma_epsilon**2, sigma_epsilon, T)\n",
    "    kappa = np.exp(rho * np.log(1) + epsilon)  # Assume kappa_{-1} = 1\n",
    "    ell_prev = 0  # Assume ell_{-1} = 0\n",
    "    for t in range(T): # For each period\n",
    "        ell = policy(kappa[t], ell_prev, Delta)\n",
    "        h_values_new[k] += R1**(-t) * profit(kappa[t], ell, ell_prev)\n",
    "        ell_prev = ell\n",
    "\n",
    "# Calculate the ex ante expected value for the new policy\n",
    "H_new = np.mean(h_values_new)\n",
    "\n",
    "print(f\"Old expected profit: {H:.2f}\")\n",
    "print(f\"New expected profit: {H_new:.2f}\")\n",
    "\n",
    "diff = H_new - H\n",
    "\n",
    "print(f\"The difference is {diff:.2f}\")"
   ]
  },
  {
   "cell_type": "code",
   "execution_count": null,
   "metadata": {},
   "outputs": [],
   "source": [
    "# Question 3.1 and 3.2 \n",
    "def griewank(x):\n",
    "    return griewank_(x[0],x[1])\n",
    "    \n",
    "def griewank_(x1,x2):\n",
    "    A = x1**2/4000 + x2**2/4000\n",
    "    B = np.cos(x1/np.sqrt(1))*np.cos(x2/np.sqrt(2))\n",
    "    return A-B+1\n",
    "\n",
    "def griewank_solve(K_bar):\n",
    "    min_ = -600\n",
    "    max_ = 600\n",
    "    tolerance = 10e-08\n",
    "    K = 1000\n",
    "\n",
    "    xstar = np.array([0, 0])\n",
    "    xk = np.random.uniform(min_, max_, (K,2))\n",
    "\n",
    "    for k in range(K):\n",
    "        if griewank(xstar) >= tolerance or k == 0:\n",
    "            if k >= K_bar:\n",
    "                Chi = 1/(1+np.exp((k-K_bar)/100))\n",
    "                xk[k] = Chi*xk[k]+(1-Chi)*xstar\n",
    "            xkstar_ = minimize(griewank, xk[k], method='BFGS', tol=tolerance)\n",
    "            xkstar = xkstar_.x\n",
    "            if k == 0 or griewank(xkstar) < griewank(xstar):\n",
    "                xstar = xkstar\n",
    "            if griewank(xstar) < tolerance:\n",
    "                kstar = k\n",
    "\n",
    "    xk = np.delete(xk, slice(kstar, K), 0)\n",
    "\n",
    "    print(f'x*=(x1*,x2*)=({round(xstar[0],10)}, {round(xstar[1],10)})')\n",
    "    print(f'Last period = {len(xk)}')\n",
    "\n",
    "    fig = plt.figure(figsize=(12, 6))\n",
    "\n",
    "    ax1 = fig.add_subplot(1, 2, 1)  \n",
    "    ax1.plot(np.arange(kstar), np.delete(xk, 1, 1), label='$x_1$', marker='.', linestyle='None')\n",
    "    ax1.plot(np.arange(kstar), np.delete(xk, 0, 1), label='$x_2$', marker='.', linestyle='None')\n",
    "    ax1.legend(frameon=True, fontsize='large')\n",
    "    ax1.set_xlabel('k')\n",
    "    ax1.set_ylabel('$x^{k0}$')\n",
    "    ax1.set_title('Griewank function in 2D')\n",
    "    ax1.grid(True)\n",
    "    \n",
    "    ax2 = fig.add_subplot(1, 2, 2, projection='3d')  \n",
    "    ax2.scatter(np.delete(xk, 1, 1), np.delete(xk, 0, 1), np.arange(kstar))\n",
    "    ax2.set_xlabel('$x_1$')\n",
    "    ax2.set_ylabel('$x_2$')\n",
    "    ax2.set_title('Griewank function in 3D')\n",
    "\n",
    "    plt.tight_layout()\n",
    "    plt.show()"
   ]
  }
 ],
 "metadata": {
  "kernelspec": {
   "display_name": "base",
   "language": "python",
   "name": "python3"
  },
  "language_info": {
   "codemirror_mode": {
    "name": "ipython",
    "version": 3
   },
   "file_extension": ".py",
   "mimetype": "text/x-python",
   "name": "python",
   "nbconvert_exporter": "python",
   "pygments_lexer": "ipython3",
   "version": "3.9.13"
  },
  "orig_nbformat": 4
 },
 "nbformat": 4,
 "nbformat_minor": 2
}
